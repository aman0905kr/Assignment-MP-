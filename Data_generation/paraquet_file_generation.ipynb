{
 "cells": [
  {
   "cell_type": "code",
   "execution_count": null,
   "metadata": {},
   "outputs": [],
   "source": [
    "import polars as pl\n",
    "\n",
    "# 1. Building LazyFrame over all CSVs and drop global duplicates\n",
    "lazy = (\n",
    "    pl.scan_csv(\"data/mock_csvs_final/*.csv\")\n",
    "      .unique(subset=[\"log_id\"])\n",
    ")\n",
    "\n",
    "# 2. writing it as a parquet file\n",
    "lazy.sink_parquet(\n",
    "    \"data/user_activity_combined.parquet\"\n",
    ")\n"
   ]
  }
 ],
 "metadata": {
  "kernelspec": {
   "display_name": ".venv",
   "language": "python",
   "name": "python3"
  },
  "language_info": {
   "codemirror_mode": {
    "name": "ipython",
    "version": 3
   },
   "file_extension": ".py",
   "mimetype": "text/x-python",
   "name": "python",
   "nbconvert_exporter": "python",
   "pygments_lexer": "ipython3",
   "version": "3.9.6"
  }
 },
 "nbformat": 4,
 "nbformat_minor": 2
}
